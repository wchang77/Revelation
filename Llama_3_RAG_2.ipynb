{
  "cells": [
    {
      "cell_type": "code",
      "execution_count": null,
      "id": "8520d840-fcf6-4458-b85c-8a2ff80a34eb",
      "metadata": {
        "colab": {
          "base_uri": "https://localhost:8080/"
        },
        "collapsed": true,
        "id": "8520d840-fcf6-4458-b85c-8a2ff80a34eb",
        "jupyter": {
          "outputs_hidden": true
        },
        "outputId": "7c9e4102-3d9c-478d-d9a6-710c2c7c5734"
      },
      "outputs": [],
      "source": [
        "!pip install -q -U langchain-nomic langchain_community tiktoken langchainhub chromadb langchain langgraph tavily-python gpt4all pypdf colab-xterm gradio"
      ]
    },
    {
      "cell_type": "markdown",
      "id": "cfaaf9df",
      "metadata": {},
      "source": [
        "# Google Colab Terminal (Optional)"
      ]
    },
    {
      "cell_type": "code",
      "execution_count": null,
      "id": "8ODJou36HQn-",
      "metadata": {
        "id": "8ODJou36HQn-"
      },
      "outputs": [],
      "source": [
        "%load_ext colabxterm"
      ]
    },
    {
      "cell_type": "code",
      "execution_count": null,
      "id": "2LZeclIcHYxy",
      "metadata": {
        "id": "2LZeclIcHYxy"
      },
      "outputs": [],
      "source": [
        "%xterm"
      ]
    },
    {
      "cell_type": "markdown",
      "id": "ljlKnZzKjFNy",
      "metadata": {
        "id": "ljlKnZzKjFNy"
      },
      "source": [
        "# Note:\n",
        "\n",
        "### Type in your terminal:\n",
        "\n",
        "curl -fsSL https://ollama.com/install.sh | sh\n",
        "\n",
        "ollama serve & ollama pull llama3"
      ]
    },
    {
      "cell_type": "markdown",
      "id": "0216de30-29cf-4464-9cc3-6e9a6d6c3e40",
      "metadata": {
        "id": "0216de30-29cf-4464-9cc3-6e9a6d6c3e40"
      },
      "source": [
        "# Local RAG agent with LLaMA3\n",
        "\n",
        "We'll combine ideas from paper RAG papers into a RAG agent:\n",
        "\n",
        "- **Routing:**  Adaptive RAG ([paper](https://arxiv.org/abs/2403.14403)). Route questions to different retrieval approaches\n",
        "- **Fallback:** Corrective RAG ([paper](https://arxiv.org/pdf/2401.15884.pdf)). Fallback to web search if docs are not relevant to query\n",
        "- **Self-correction:** Self-RAG ([paper](https://arxiv.org/abs/2310.11511)). Fix answers w/ hallucinations or don’t address question\n",
        "\n",
        "## Local models\n",
        "\n",
        "#### Embedding\n",
        "\n",
        "[GPT4All Embeddings](https://blog.nomic.ai/posts/nomic-embed-text-v1):\n",
        "\n",
        "```\n",
        "pip install langchain-nomic\n",
        "```\n",
        "\n",
        "### LLM\n",
        "\n",
        "Use [Ollama](https://ollama.ai/) and [llama3](https://ollama.ai/library/llama3):\n",
        "\n",
        "```\n",
        "ollama pull llama3\n",
        "```\n",
        "\n",
        "Prompt -\n",
        "\n",
        "https://llama.meta.com/docs/model-cards-and-prompt-formats/meta-llama-3/\n",
        "\n",
        "### Tracing\n",
        "\n",
        "```\n",
        "### Tracing (optional)\n",
        "os.environ['LANGCHAIN_TRACING_V2'] = 'true'\n",
        "os.environ['LANGCHAIN_ENDPOINT'] = 'https://api.smith.langchain.com'\n",
        "os.environ['LANGCHAIN_API_KEY'] = <your-api-key>\n",
        "```"
      ]
    },
    {
      "cell_type": "code",
      "execution_count": null,
      "id": "2096d49c-d3dc-4329-ada7-aff56d210198",
      "metadata": {
        "id": "2096d49c-d3dc-4329-ada7-aff56d210198"
      },
      "outputs": [],
      "source": [
        "### LLM\n",
        "\n",
        "local_llm = \"llama3\""
      ]
    },
    {
      "cell_type": "markdown",
      "id": "e091a110",
      "metadata": {
        "id": "e091a110"
      },
      "source": [
        "# URL Type Router"
      ]
    },
    {
      "cell_type": "code",
      "execution_count": null,
      "id": "335dda13",
      "metadata": {
        "id": "335dda13"
      },
      "outputs": [],
      "source": [
        "import requests\n",
        "\n",
        "def url_type(url):\n",
        "    \"\"\"\n",
        "    Determine the type of the URL: PDF or webpage.\n",
        "\n",
        "    Args:\n",
        "        url (str): The URL to check.\n",
        "\n",
        "    Returns:\n",
        "        str: The type of the URL: 'pdf' or 'webpage'.\n",
        "    \"\"\"\n",
        "    # Check if the URL is a PDF\n",
        "    if url.lower().endswith('.pdf'):\n",
        "        return 'pdf'\n",
        "\n",
        "    # Check if the URL is a webpage\n",
        "    try:\n",
        "        response = requests.head(url, allow_redirects=True)\n",
        "        content_type = response.headers.get('Content-Type', '')\n",
        "\n",
        "        if 'text/html' in content_type:\n",
        "            return 'webpage'\n",
        "    except requests.RequestException:\n",
        "        return 'unknown'\n",
        "\n",
        "    return 'unknown'"
      ]
    },
    {
      "cell_type": "markdown",
      "id": "1e839383",
      "metadata": {
        "id": "1e839383"
      },
      "source": [
        "# Document Class"
      ]
    },
    {
      "cell_type": "code",
      "execution_count": null,
      "id": "cb1b3957",
      "metadata": {
        "id": "cb1b3957"
      },
      "outputs": [],
      "source": [
        "import requests\n",
        "\n",
        "class Document:\n",
        "    def __init__(self, page_content, metadata):\n",
        "        self.page_content = page_content\n",
        "        self.metadata = metadata\n",
        "\n",
        "    @staticmethod\n",
        "    def fetch_html(url):\n",
        "        response = requests.get(url)\n",
        "        response.raise_for_status()\n",
        "        return response.text\n",
        "\n",
        "    @staticmethod\n",
        "    def load_documents(urls):\n",
        "        documents = []\n",
        "        for url in urls:\n",
        "            html = Document.fetch_html(url)\n",
        "            documents.append(Document(page_content=html, metadata={\"source\": url}))\n",
        "        return documents"
      ]
    },
    {
      "cell_type": "markdown",
      "id": "SzDf9Mt7bpVZ",
      "metadata": {
        "id": "SzDf9Mt7bpVZ"
      },
      "source": [
        "# HTML (Complex/Dynamic HTML Content)"
      ]
    },
    {
      "cell_type": "code",
      "execution_count": null,
      "id": "o6hwtGHLeiyv",
      "metadata": {
        "colab": {
          "base_uri": "https://localhost:8080/"
        },
        "id": "o6hwtGHLeiyv",
        "outputId": "5b0b7f0a-355e-4dd0-b0b4-62c364b9f4fa"
      },
      "outputs": [],
      "source": [
        "!pip install -q html2text faiss-cpu sentence-transformers"
      ]
    },
    {
      "cell_type": "code",
      "execution_count": null,
      "id": "e53061ee",
      "metadata": {
        "id": "e53061ee"
      },
      "outputs": [],
      "source": [
        "import requests\n",
        "from bs4 import BeautifulSoup\n",
        "from langchain.document_transformers import Html2TextTransformer\n",
        "from langchain.text_splitter import CharacterTextSplitter\n",
        "from langchain_community.vectorstores import FAISS\n",
        "from langchain_community.embeddings import HuggingFaceEmbeddings\n",
        "\n",
        "\n",
        "def chunk_embed_html(urls):\n",
        "    # Scrapes the blogs above\n",
        "    docs = Document.load_documents(urls)\n",
        "\n",
        "    # Converts HTML to plain text\n",
        "    html2text = Html2TextTransformer()\n",
        "    docs_trans = html2text.transform_documents(docs)\n",
        "\n",
        "    # Chunk text\n",
        "    text_splitter = CharacterTextSplitter(chunk_size=100,\n",
        "                                        chunk_overlap=0)\n",
        "    chunked_documents = text_splitter.split_documents(docs_trans)\n",
        "\n",
        "    # Load chunked documents into the FAISS index\n",
        "    vectorstore = FAISS.from_documents(chunked_documents,\n",
        "                            HuggingFaceEmbeddings(model_name='sentence-transformers/all-mpnet-base-v2'))\n",
        "\n",
        "    retriever = vectorstore.as_retriever()\n",
        "\n",
        "    return retriever"
      ]
    },
    {
      "cell_type": "markdown",
      "id": "j1x_P2bmVeHV",
      "metadata": {
        "id": "j1x_P2bmVeHV"
      },
      "source": [
        "# PDFs"
      ]
    },
    {
      "cell_type": "code",
      "execution_count": null,
      "id": "kbH3qL8nhX9D",
      "metadata": {
        "id": "kbH3qL8nhX9D"
      },
      "outputs": [],
      "source": [
        "### Index for PDFs\n",
        "\n",
        "from langchain.text_splitter import RecursiveCharacterTextSplitter\n",
        "from langchain_community.document_loaders import PyPDFLoader\n",
        "from langchain_community.vectorstores import Chroma\n",
        "from langchain_community.embeddings import GPT4AllEmbeddings\n",
        "\n",
        "\n",
        "def chunk_embed_pdf(urls):\n",
        "    docs = [PyPDFLoader(url).load() for url in urls]\n",
        "    docs_list = [item for sublist in docs for item in sublist]\n",
        "\n",
        "    text_splitter = RecursiveCharacterTextSplitter.from_tiktoken_encoder(\n",
        "        chunk_size=250, chunk_overlap=0\n",
        "    )\n",
        "    doc_splits = text_splitter.split_documents(docs_list)\n",
        "\n",
        "    # Add to vectorDB\n",
        "    vectorstore = Chroma.from_documents(\n",
        "        documents=doc_splits,\n",
        "        collection_name=\"rag-chroma\",\n",
        "        embedding=GPT4AllEmbeddings(),\n",
        "    )\n",
        "    retriever = vectorstore.as_retriever()\n",
        "\n",
        "    return retriever"
      ]
    },
    {
      "cell_type": "markdown",
      "id": "lSxGBPS3SVzn",
      "metadata": {
        "id": "lSxGBPS3SVzn"
      },
      "source": [
        "# Agents\n",
        "\n",
        "### Make sure to enter in terminal `ollama pull llama3` before executing agents"
      ]
    },
    {
      "cell_type": "code",
      "execution_count": null,
      "id": "b008df98-8394-49da-8fb8-aefe2c90d03c",
      "metadata": {
        "colab": {
          "base_uri": "https://localhost:8080/",
          "height": 53
        },
        "id": "b008df98-8394-49da-8fb8-aefe2c90d03c",
        "outputId": "283a559f-a95b-4f92-f84b-65e45d753030"
      },
      "outputs": [],
      "source": [
        "### Retrieval Grader\n",
        "\n",
        "from langchain.prompts import PromptTemplate\n",
        "from langchain_community.chat_models import ChatOllama\n",
        "from langchain_core.output_parsers import JsonOutputParser\n",
        "\n",
        "# LLM\n",
        "llm = ChatOllama(model=local_llm, format=\"json\", temperature=0)\n",
        "\n",
        "prompt = PromptTemplate(\n",
        "    template=\"\"\"<|begin_of_text|><|start_header_id|>system<|end_header_id|> You are a grader assessing relevance\n",
        "    of a retrieved document to a user question. If the document contains keywords related to the user question,\n",
        "    grade it as relevant. It does not need to be a stringent test. The goal is to filter out erroneous retrievals. \\n\n",
        "    Give a binary score 'yes' or 'no' score to indicate whether the document is relevant to the question. \\n\n",
        "    Provide the binary score as a JSON with a single key 'score' and no premable or explanation.\n",
        "     <|eot_id|><|start_header_id|>user<|end_header_id|>\n",
        "    Here is the retrieved document: \\n\\n {document} \\n\\n\n",
        "    Here is the user question: {question} \\n <|eot_id|><|start_header_id|>assistant<|end_header_id|>\n",
        "    \"\"\",\n",
        "    input_variables=[\"question\", \"document\"],\n",
        ")\n",
        "\n",
        "retrieval_grader = prompt | llm | JsonOutputParser()"
      ]
    },
    {
      "cell_type": "code",
      "execution_count": null,
      "id": "1d531a81-6d4d-405e-975a-01ef1c9679fa",
      "metadata": {
        "colab": {
          "base_uri": "https://localhost:8080/",
          "height": 53
        },
        "id": "1d531a81-6d4d-405e-975a-01ef1c9679fa",
        "outputId": "078ea891-3498-4a4f-87e9-5a19ec340189"
      },
      "outputs": [],
      "source": [
        "### Generate\n",
        "\n",
        "from langchain.prompts import PromptTemplate\n",
        "from langchain import hub\n",
        "from langchain_core.output_parsers import StrOutputParser\n",
        "\n",
        "# Prompt\n",
        "prompt = PromptTemplate(\n",
        "    template=\"\"\"<|begin_of_text|><|start_header_id|>system<|end_header_id|> You are an assistant for question-answering tasks.\n",
        "    Use the following pieces of retrieved context to answer the question. If you don't know the answer, just say that you don't know.\n",
        "    Use three sentences maximum and keep the answer concise <|eot_id|><|start_header_id|>user<|end_header_id|>\n",
        "    Question: {question}\n",
        "    Context: {context}\n",
        "    Answer: <|eot_id|><|start_header_id|>assistant<|end_header_id|>\"\"\",\n",
        "    input_variables=[\"question\", \"document\"],\n",
        ")\n",
        "\n",
        "llm = ChatOllama(model=local_llm, temperature=0)\n",
        "\n",
        "\n",
        "# Post-processing\n",
        "def format_docs(docs):\n",
        "    return \"\\n\\n\".join(doc.page_content for doc in docs)\n",
        "\n",
        "\n",
        "# Chain\n",
        "rag_chain = prompt | llm | StrOutputParser()"
      ]
    },
    {
      "cell_type": "code",
      "execution_count": null,
      "id": "0261a9a4-de13-4dd8-b082-95305a3e43ca",
      "metadata": {
        "id": "0261a9a4-de13-4dd8-b082-95305a3e43ca"
      },
      "outputs": [],
      "source": [
        "### Hallucination Grader\n",
        "\n",
        "# LLM\n",
        "llm = ChatOllama(model=local_llm, format=\"json\", temperature=0)\n",
        "\n",
        "# Prompt\n",
        "prompt = PromptTemplate(\n",
        "    template=\"\"\" <|begin_of_text|><|start_header_id|>system<|end_header_id|> You are a grader assessing whether\n",
        "    an answer is grounded in / supported by a set of facts. Give a binary 'yes' or 'no' score to indicate\n",
        "    whether the answer is grounded in / supported by a set of facts. Provide the binary score as a JSON with a\n",
        "    single key 'score' and no preamble or explanation. <|eot_id|><|start_header_id|>user<|end_header_id|>\n",
        "    Here are the facts:\n",
        "    \\n ------- \\n\n",
        "    {documents}\n",
        "    \\n ------- \\n\n",
        "    Here is the answer: {generation}  <|eot_id|><|start_header_id|>assistant<|end_header_id|>\"\"\",\n",
        "    input_variables=[\"generation\", \"documents\"],\n",
        ")\n",
        "\n",
        "hallucination_grader = prompt | llm | JsonOutputParser()"
      ]
    },
    {
      "cell_type": "code",
      "execution_count": null,
      "id": "df9f6944-4fee-4971-b3a7-2b81b44ed433",
      "metadata": {
        "id": "df9f6944-4fee-4971-b3a7-2b81b44ed433"
      },
      "outputs": [],
      "source": [
        "### Answer Grader\n",
        "\n",
        "# LLM\n",
        "llm = ChatOllama(model=local_llm, format=\"json\", temperature=0)\n",
        "\n",
        "# Prompt\n",
        "prompt = PromptTemplate(\n",
        "    template=\"\"\"<|begin_of_text|><|start_header_id|>system<|end_header_id|> You are a grader assessing whether an\n",
        "    answer is useful to resolve a question. Give a binary score 'yes' or 'no' to indicate whether the answer is\n",
        "    useful to resolve a question. Provide the binary score as a JSON with a single key 'score' and no preamble or explanation.\n",
        "     <|eot_id|><|start_header_id|>user<|end_header_id|> Here is the answer:\n",
        "    \\n ------- \\n\n",
        "    {generation}\n",
        "    \\n ------- \\n\n",
        "    Here is the question: {question} <|eot_id|><|start_header_id|>assistant<|end_header_id|>\"\"\",\n",
        "    input_variables=[\"generation\", \"question\"],\n",
        ")\n",
        "\n",
        "answer_grader = prompt | llm | JsonOutputParser()"
      ]
    },
    {
      "cell_type": "code",
      "execution_count": null,
      "id": "a9c910c1-738c-4bf7-bf9e-801862b227eb",
      "metadata": {
        "colab": {
          "base_uri": "https://localhost:8080/",
          "height": 53
        },
        "id": "a9c910c1-738c-4bf7-bf9e-801862b227eb",
        "outputId": "dfd73192-4f78-4a22-8ad8-9ac7990e997c"
      },
      "outputs": [],
      "source": [
        "### Router\n",
        "\n",
        "from langchain.prompts import PromptTemplate\n",
        "from langchain_community.chat_models import ChatOllama\n",
        "from langchain_core.output_parsers import JsonOutputParser\n",
        "\n",
        "# LLM\n",
        "llm = ChatOllama(model=local_llm, format=\"json\", temperature=0)\n",
        "\n",
        "\n",
        "prompt = PromptTemplate(\n",
        "    template=\"\"\"<|begin_of_text|><|start_header_id|>system<|end_header_id|> You are an expert at routing a\n",
        "    user question to a vectorstore or web search. Use the vectorstore for questions with keywords related to topics in\n",
        "    the vector store. You do not need to be stringent with the keywords\n",
        "    in the question related to these topics. Otherwise, use web-search. Give a binary choice 'web_search'\n",
        "    or 'vectorstore' based on the question. Return the a JSON with a single key 'datasource' and\n",
        "    no premable or explanation. Question to route: {question} <|eot_id|><|start_header_id|>assistant<|end_header_id|>\"\"\",\n",
        "    input_variables=[\"question\"],\n",
        ")\n",
        "\n",
        "question_router = prompt | llm | JsonOutputParser()"
      ]
    },
    {
      "cell_type": "markdown",
      "id": "5uO_41aeU003",
      "metadata": {
        "id": "5uO_41aeU003"
      },
      "source": [
        "# Web Search"
      ]
    },
    {
      "cell_type": "code",
      "execution_count": null,
      "id": "023ff2db-eb4e-4d44-904c-ea061abc16d9",
      "metadata": {
        "id": "023ff2db-eb4e-4d44-904c-ea061abc16d9"
      },
      "outputs": [],
      "source": [
        "### Search\n",
        "\n",
        "import os\n",
        "from langchain_community.tools.tavily_search import TavilySearchResults\n",
        "\n",
        "# Set your Tavily API key\n",
        "os.environ['TAVILY_API_KEY'] = 'YOUR_API'\n",
        "\n",
        "# Initialize the TavilySearchResults tool\n",
        "web_search_tool = TavilySearchResults(k=3)"
      ]
    },
    {
      "cell_type": "markdown",
      "id": "McGJQ5PsU6zG",
      "metadata": {
        "id": "McGJQ5PsU6zG"
      },
      "source": [
        "# LangGraph Control Flow"
      ]
    },
    {
      "cell_type": "markdown",
      "id": "ccd59cdf-a04d-4b2e-b9cc-6a1b1e80a6c6",
      "metadata": {
        "id": "ccd59cdf-a04d-4b2e-b9cc-6a1b1e80a6c6"
      },
      "source": [
        "### We'll implement these as a control flow in LangGraph."
      ]
    },
    {
      "cell_type": "code",
      "execution_count": null,
      "id": "07fa3d08-6a86-4705-a28b-e2721070bc5e",
      "metadata": {
        "id": "07fa3d08-6a86-4705-a28b-e2721070bc5e"
      },
      "outputs": [],
      "source": [
        "from typing_extensions import TypedDict\n",
        "from typing import List\n",
        "\n",
        "### State\n",
        "\n",
        "\n",
        "class GraphState(TypedDict):\n",
        "    \"\"\"\n",
        "    Represents the state of our graph.\n",
        "\n",
        "    Attributes:\n",
        "        question: question\n",
        "        generation: LLM generation\n",
        "        web_search: whether to add search\n",
        "        documents: list of documents\n",
        "        urls: list of URLs to process\n",
        "    \"\"\"\n",
        "    question: str\n",
        "    generation: str\n",
        "    web_search: str\n",
        "    documents: List[str]\n",
        "    urls: List[str]  # Add this line\n",
        "\n",
        "\n",
        "from langchain.schema import Document\n",
        "\n",
        "def process_urls(urls):\n",
        "    pdf_urls = [url for url in urls if url_type(url) == 'pdf']\n",
        "    webpage_urls = [url for url in urls if url_type(url) == 'webpage']\n",
        "\n",
        "    retrievers = []\n",
        "\n",
        "    if pdf_urls:\n",
        "        retrievers.append(chunk_embed_pdf(pdf_urls))\n",
        "\n",
        "    if webpage_urls:\n",
        "        retrievers.append(chunk_embed_html(webpage_urls))\n",
        "\n",
        "    return retrievers\n",
        "\n",
        "### Nodes\n",
        "def process_urls_node(state):\n",
        "    \"\"\"\n",
        "    Process URLs and update the state with retrievers.\n",
        "\n",
        "    Args:\n",
        "        state (dict): The current graph state\n",
        "\n",
        "    Returns:\n",
        "        state (dict): Updated state with retrievers\n",
        "    \"\"\"\n",
        "    urls = state.get(\"urls\", [])\n",
        "    retrievers = process_urls(urls)\n",
        "    state[\"retrievers\"] = retrievers  # Store retrievers in the state\n",
        "    return state\n",
        "\n",
        "def retrieve(state):\n",
        "    \"\"\"\n",
        "    Retrieve documents from vectorstore\n",
        "\n",
        "    Args:\n",
        "        state (dict): The current graph state\n",
        "\n",
        "    Returns:\n",
        "        state (dict): New key added to state, documents, that contains retrieved documents\n",
        "    \"\"\"\n",
        "    print(\"---RETRIEVE---\")\n",
        "    question = state[\"question\"]\n",
        "    retrievers = state.get(\"retrievers\", [])\n",
        "\n",
        "    # Combine results from all retrievers\n",
        "    documents = []\n",
        "    for retriever in retrievers:\n",
        "        documents.extend(retriever.invoke(question))\n",
        "\n",
        "    return {\"documents\": documents, \"question\": question}\n",
        "\n",
        "\n",
        "def generate(state):\n",
        "    \"\"\"\n",
        "    Generate answer using RAG on retrieved documents\n",
        "\n",
        "    Args:\n",
        "        state (dict): The current graph state\n",
        "\n",
        "    Returns:\n",
        "        state (dict): New key added to state, generation, that contains LLM generation\n",
        "    \"\"\"\n",
        "    print(\"---GENERATE---\")\n",
        "    question = state[\"question\"]\n",
        "    documents = state[\"documents\"]\n",
        "\n",
        "    # RAG generation\n",
        "    generation = rag_chain.invoke({\"context\": documents, \"question\": question})\n",
        "    return {\"documents\": documents, \"question\": question, \"generation\": generation}\n",
        "\n",
        "\n",
        "def grade_documents(state):\n",
        "    \"\"\"\n",
        "    Determines whether the retrieved documents are relevant to the question\n",
        "    If any document is not relevant, we will set a flag to run web search\n",
        "\n",
        "    Args:\n",
        "        state (dict): The current graph state\n",
        "\n",
        "    Returns:\n",
        "        state (dict): Filtered out irrelevant documents and updated web_search state\n",
        "    \"\"\"\n",
        "\n",
        "    print(\"---CHECK DOCUMENT RELEVANCE TO QUESTION---\")\n",
        "    question = state[\"question\"]\n",
        "    documents = state[\"documents\"]\n",
        "\n",
        "    # Score each doc\n",
        "    filtered_docs = []\n",
        "    web_search = \"No\"\n",
        "    for d in documents:\n",
        "        score = retrieval_grader.invoke(\n",
        "            {\"question\": question, \"document\": d.page_content}\n",
        "        )\n",
        "        grade = score[\"score\"]\n",
        "        # Document relevant\n",
        "        if grade.lower() == \"yes\":\n",
        "            print(\"---GRADE: DOCUMENT RELEVANT---\")\n",
        "            filtered_docs.append(d)\n",
        "        # Document not relevant\n",
        "        else:\n",
        "            print(\"---GRADE: DOCUMENT NOT RELEVANT---\")\n",
        "            # We do not include the document in filtered_docs\n",
        "            # We set a flag to indicate that we want to run web search\n",
        "            web_search = \"Yes\"\n",
        "            continue\n",
        "    return {\"documents\": filtered_docs, \"question\": question, \"web_search\": web_search}\n",
        "\n",
        "\n",
        "def web_search(state):\n",
        "    \"\"\"\n",
        "    Web search based based on the question\n",
        "\n",
        "    Args:\n",
        "        state (dict): The current graph state\n",
        "\n",
        "    Returns:\n",
        "        state (dict): Appended web results to documents\n",
        "    \"\"\"\n",
        "\n",
        "    print(\"---WEB SEARCH---\")\n",
        "    question = state[\"question\"]\n",
        "    documents = state[\"documents\"]\n",
        "\n",
        "    # Web search\n",
        "    docs = web_search_tool.invoke({\"query\": question})\n",
        "    web_results = \"\\n\".join([d[\"content\"] for d in docs])\n",
        "    web_results = Document(page_content=web_results)\n",
        "    if documents is not None:\n",
        "        documents.append(web_results)\n",
        "    else:\n",
        "        documents = [web_results]\n",
        "    return {\"documents\": documents, \"question\": question}\n",
        "\n",
        "\n",
        "### Conditional edge\n",
        "\n",
        "\n",
        "def route_question(state):\n",
        "    \"\"\"\n",
        "    Route question to web search or RAG.\n",
        "\n",
        "    Args:\n",
        "        state (dict): The current graph state\n",
        "\n",
        "    Returns:\n",
        "        str: Next node to call\n",
        "    \"\"\"\n",
        "\n",
        "    print(\"---ROUTE QUESTION---\")\n",
        "    question = state[\"question\"]\n",
        "    print(question)\n",
        "\n",
        "    source = question_router.invoke({\"question\": question})\n",
        "    print(source)\n",
        "    print(source[\"datasource\"])\n",
        "\n",
        "    if source[\"datasource\"] == \"web_search\":\n",
        "        print(\"---ROUTE QUESTION TO WEB SEARCH---\")\n",
        "        return \"websearch\"\n",
        "    elif source[\"datasource\"] == \"vectorstore\":\n",
        "        print(\"---ROUTE QUESTION TO RAG---\")\n",
        "        return \"vectorstore\"\n",
        "\n",
        "\n",
        "def decide_to_generate(state):\n",
        "    \"\"\"\n",
        "    Determines whether to generate an answer, or add web search\n",
        "\n",
        "    Args:\n",
        "        state (dict): The current graph state\n",
        "\n",
        "    Returns:\n",
        "        str: Binary decision for next node to call\n",
        "    \"\"\"\n",
        "\n",
        "    print(\"---ASSESS GRADED DOCUMENTS---\")\n",
        "    question = state[\"question\"]\n",
        "    web_search = state[\"web_search\"]\n",
        "    filtered_documents = state[\"documents\"]\n",
        "\n",
        "    if web_search == \"Yes\":\n",
        "        # All documents have been filtered check_relevance\n",
        "        # We will re-generate a new query\n",
        "        print(\n",
        "            \"---DECISION: ALL DOCUMENTS ARE NOT RELEVANT TO QUESTION, INCLUDE WEB SEARCH---\"\n",
        "        )\n",
        "        return \"websearch\"\n",
        "    else:\n",
        "        # We have relevant documents, so generate answer\n",
        "        print(\"---DECISION: GENERATE---\")\n",
        "        return \"generate\"\n",
        "\n",
        "\n",
        "### Conditional edge\n",
        "\n",
        "\n",
        "def grade_generation_v_documents_and_question(state):\n",
        "    \"\"\"\n",
        "    Determines whether the generation is grounded in the document and answers question.\n",
        "\n",
        "    Args:\n",
        "        state (dict): The current graph state\n",
        "\n",
        "    Returns:\n",
        "        str: Decision for next node to call\n",
        "    \"\"\"\n",
        "\n",
        "    print(\"---CHECK HALLUCINATIONS---\")\n",
        "    question = state[\"question\"]\n",
        "    documents = state[\"documents\"]\n",
        "    generation = state[\"generation\"]\n",
        "\n",
        "    score = hallucination_grader.invoke(\n",
        "        {\"documents\": documents, \"generation\": generation}\n",
        "    )\n",
        "    grade = score[\"score\"]\n",
        "\n",
        "    # Check hallucination\n",
        "    if grade == \"yes\":\n",
        "        print(\"---DECISION: GENERATION IS GROUNDED IN DOCUMENTS---\")\n",
        "        # Check question-answering\n",
        "        print(\"---GRADE GENERATION vs QUESTION---\")\n",
        "        score = answer_grader.invoke({\"question\": question, \"generation\": generation})\n",
        "        grade = score[\"score\"]\n",
        "        if grade == \"yes\":\n",
        "            print(\"---DECISION: GENERATION ADDRESSES QUESTION---\")\n",
        "            return \"useful\"\n",
        "        else:\n",
        "            print(\"---DECISION: GENERATION DOES NOT ADDRESS QUESTION---\")\n",
        "            return \"not useful\"\n",
        "    else:\n",
        "        pprint(\"---DECISION: GENERATION IS NOT GROUNDED IN DOCUMENTS, RE-TRY---\")\n",
        "        return \"not supported\"\n",
        "\n",
        "\n",
        "from langgraph.graph import END, StateGraph\n",
        "\n",
        "workflow = StateGraph(GraphState)\n",
        "\n",
        "# Define the nodes\n",
        "workflow.add_node(\"process_urls_node\", process_urls_node) # process URLs\n",
        "workflow.add_node(\"websearch\", web_search)  # web search\n",
        "workflow.add_node(\"retrieve\", retrieve)  # retrieve from vector store\n",
        "workflow.add_node(\"grade_documents\", grade_documents)  # grade documents\n",
        "workflow.add_node(\"generate\", generate)  # generate"
      ]
    },
    {
      "cell_type": "markdown",
      "id": "73f21594-00d4-48a8-ae2e-4e55a010b540",
      "metadata": {
        "id": "73f21594-00d4-48a8-ae2e-4e55a010b540"
      },
      "source": [
        "### Graph Build"
      ]
    },
    {
      "cell_type": "code",
      "execution_count": null,
      "id": "d9a4b9e4-3ba8-47d6-958c-e5a7112ac6f4",
      "metadata": {
        "id": "d9a4b9e4-3ba8-47d6-958c-e5a7112ac6f4"
      },
      "outputs": [],
      "source": [
        "# Build graph\n",
        "# Set the entry point to process URLs first\n",
        "workflow.set_entry_point(\"process_urls_node\")\n",
        "\n",
        "# Route the question after processing URLs\n",
        "workflow.add_conditional_edges(\n",
        "    \"process_urls_node\",  # Current node\n",
        "    route_question,  # Function to determine the next node\n",
        "    {\n",
        "        \"vectorstore\": \"retrieve\",  # Mapping of condition to next node\n",
        "        \"websearch\": \"websearch\"\n",
        "    }\n",
        ")\n",
        "\n",
        "workflow.add_edge(\"retrieve\", \"grade_documents\")\n",
        "workflow.add_conditional_edges(\n",
        "    \"grade_documents\",\n",
        "    decide_to_generate,\n",
        "    {\n",
        "        \"websearch\": \"websearch\",\n",
        "        \"generate\": \"generate\",\n",
        "    },\n",
        ")\n",
        "workflow.add_edge(\"websearch\", \"generate\")\n",
        "workflow.add_conditional_edges(\n",
        "    \"generate\",\n",
        "    grade_generation_v_documents_and_question,\n",
        "    {\n",
        "        \"not supported\": \"generate\",\n",
        "        \"useful\": END,\n",
        "        \"not useful\": \"websearch\",\n",
        "    },\n",
        ")"
      ]
    },
    {
      "cell_type": "markdown",
      "id": "69uZpDQoVSN7",
      "metadata": {
        "id": "69uZpDQoVSN7"
      },
      "source": [
        "# Frontend Inference Test"
      ]
    },
    {
      "cell_type": "markdown",
      "id": "BELyaAXlv6Kn",
      "metadata": {
        "id": "BELyaAXlv6Kn"
      },
      "source": [
        "\"https://arxiv.org/pdf/2403.14403\",\n",
        "\"https://arxiv.org/pdf/2401.15884\",\n",
        "\"https://arxiv.org/pdf/2310.11511\",\n",
        "\"https://www.allrecipes.com/recipe/240290/moms-scalloped-potatoes/\",\n",
        "\n",
        "How can I integrate SELF-RAG, Adaptive-RAG, and CRAG together?"
      ]
    },
    {
      "cell_type": "code",
      "execution_count": null,
      "id": "fd1fb7cd",
      "metadata": {
        "id": "fd1fb7cd"
      },
      "outputs": [],
      "source": [
        "import gradio as gr\n",
        "from pprint import pprint\n",
        "import io\n",
        "import contextlib\n",
        "\n",
        "# Compile the workflow\n",
        "try:\n",
        "    app = workflow.compile()\n",
        "except ValueError as e:\n",
        "    print(f\"Error compiling workflow: {e}\")\n",
        "\n",
        "def process_inputs(question, urls):\n",
        "    # Ensure URLs are split correctly\n",
        "    url_list = [url.strip() for url in urls.replace(\",\", \" \").split()]\n",
        "\n",
        "    # Prepare the input state for the workflow\n",
        "    inputs = {\n",
        "        \"question\": question,\n",
        "        \"urls\": url_list,\n",
        "        \"generation\": \"\",\n",
        "        \"web_search\": \"No\",\n",
        "        \"documents\": []\n",
        "    }\n",
        "\n",
        "    final_output = None\n",
        "\n",
        "    # Create a string buffer to capture the printed output\n",
        "    with io.StringIO() as buf, contextlib.redirect_stdout(buf):\n",
        "        try:\n",
        "            for output in app.stream(inputs):\n",
        "                for key, value in output.items():\n",
        "                    pprint(f\"Finished running: {key}:\")\n",
        "                    final_output = value.get(\"generation\", \"No generation found\")\n",
        "\n",
        "            # Capture the printed output\n",
        "            pprint(final_output)\n",
        "            output_string = buf.getvalue()\n",
        "        except Exception as e:\n",
        "            print(f\"Error processing inputs: {e}\")\n",
        "            output_string = str(e)\n",
        "\n",
        "    return output_string\n",
        "\n",
        "# Define the Gradio interface\n",
        "iface = gr.Interface(\n",
        "    fn=process_inputs,\n",
        "    inputs=[\"text\", \"text\"],\n",
        "    outputs=\"text\",\n",
        "    title=\"Advanced RAG UI\",\n",
        "    description=(\"Ask a question and enter relevant URLs, each URL separated by a comma.\"\n",
        "                \" Outputs an answer using a combination of vector store retrieval and web search\")\n",
        ")\n",
        "\n",
        "iface.launch(share=True)"
      ]
    }
  ],
  "metadata": {
    "accelerator": "GPU",
    "colab": {
      "gpuType": "T4",
      "provenance": []
    },
    "kernelspec": {
      "display_name": "Python 3",
      "language": "python",
      "name": "python3"
    },
    "language_info": {
      "codemirror_mode": {
        "name": "ipython",
        "version": 3
      },
      "file_extension": ".py",
      "mimetype": "text/x-python",
      "name": "python",
      "nbconvert_exporter": "python",
      "pygments_lexer": "ipython3",
      "version": "3.10.10"
    }
  },
  "nbformat": 4,
  "nbformat_minor": 5
}
